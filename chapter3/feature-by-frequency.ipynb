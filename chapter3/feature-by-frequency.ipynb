{
 "cells": [
  {
   "cell_type": "code",
   "execution_count": null,
   "metadata": {},
   "outputs": [],
   "source": []
  },
  {
   "cell_type": "code",
   "execution_count": 11,
   "metadata": {},
   "outputs": [
    {
     "name": "stdout",
     "output_type": "stream",
     "text": [
      "debug /home/jovyan/work/thesis/TinyOS-Benchmark\n"
     ]
    },
    {
     "data": {
      "image/png": "[encoded data removed]",
      "text/plain": [
       "<Figure size 432x288 with 1 Axes>"
      ]
     },
     "metadata": {
      "needs_background": "light"
     },
     "output_type": "display_data"
    }
   ],
   "source": [
    "#-*- coding: utf-8 -*-\n",
    "import pickle\n",
    "import os\n",
    "import gc\n",
    "print('debug', os.getcwd())\n",
    "def containlogfile(folder):\n",
    "    ''' Does the folder contain log file?\n",
    "    Args:\n",
    "        folder: str\n",
    "    '''\n",
    "    \n",
    "    for e in os.listdir(folder):\n",
    "        if '.pkl' in e:\n",
    "            return True        \n",
    "    return False\n",
    "\n",
    "data_path = '../TinyOS-Benchmark/preprocessed-dataset/'\n",
    "paths_data = {}\n",
    "paths = list(os.walk(data_path))\n",
    "for i in range(len(paths)):\n",
    "    #if i > 14: break\n",
    "    print('{}/{}: {}'.format(i, len(paths), paths[i][0]))\n",
    "    if containlogfile(paths[i][0]) and paths[i][0] not in paths_data:\n",
    "        paths_data[paths[i][0]] = []\n",
    "    for e2 in paths[i][2]:\n",
    "        fn = os.path.join(paths[i][0], e2)\n",
    "        with open(fn, 'rb') as f:\n",
    "            paths_data[paths[i][0]] += pickle.load(f)\n",
    "\n",
    "\n",
    "def most_tasks(ls, num=5):\n",
    "    ''' shoot tasks make up the majority in the logs\n",
    "    Args:\n",
    "        ls: list, logs look [(timestamp, taskid) ...]\n",
    "        num: int, the top of task\n",
    "    Retval:\n",
    "        ((taskid, number, precent), allprecent, num)\n",
    "        allprecent is the sum of each prcent in the first item precents  \n",
    "        num is the number of tasks, len(ls) yet.\n",
    "    '''\n",
    "    count = {}\n",
    "    for e in ls:\n",
    "        if e[1] in count:\n",
    "            count[e[1]] += 1\n",
    "        else:\n",
    "            count[e[1]] = 1\n",
    "\n",
    "    count = list(map(lambda k: (k, count[k]), count.keys()))\n",
    "    count = sorted(count, key=lambda e: e[1], reverse=True)\n",
    "    count = list(map(lambda e: (e[0], e[1],\n",
    "                     round(float(e[1]) / len(ls), 2)), count))\n",
    "    return count[:num], sum(map(lambda e: e[2], count[:num])), len(ls)\n",
    "\n",
    "\n",
    "\n",
    "import matplotlib.pyplot as plt\n",
    "plt.figure(\"plot\")\n",
    "\n",
    "y = []\n",
    "for k, v in paths_data.items():\n",
    "    retval = most_tasks(v, 5)\n",
    "    y.append(sum(map(lambda e: e[2], retval[0])))\n",
    "plt.ylim(0, 1)\n",
    "plt.plot(list(range(1, len(y) + 1)), y, marker='o', linestyle=' ')\n",
    "    \n",
    "'''\n",
    "temp_x = 1\n",
    "for k, v in paths_data.items():\n",
    "    #print(k, most_tasks(v, 5))\n",
    "    retval = most_tasks(v, 5)\n",
    "    y = list(map(lambda e: e[2], retval[0]))\n",
    "    print(len (y))\n",
    "    if len(y) < 5: continue\n",
    "    plt.ylim(0, 1)\n",
    "    plt.plot([temp_x for i in range(5)], y, marker='o', linestyle=' ')\n",
    "    temp_x += 1\n",
    "'''\n",
    "plt.savefig('feature-by-frequency.png')\n",
    "plt.show()    "
   ]
  },
  {
   "cell_type": "code",
   "execution_count": null,
   "metadata": {},
   "outputs": [],
   "source": []
  }
 ],
 "metadata": {
  "kernelspec": {
   "display_name": "Python 3",
   "language": "python",
   "name": "python3"
  },
  "language_info": {
   "codemirror_mode": {
    "name": "ipython",
    "version": 3
   },
   "file_extension": ".py",
   "mimetype": "text/x-python",
   "name": "python",
   "nbconvert_exporter": "python",
   "pygments_lexer": "ipython3",
   "version": "3.6.6"
  }
 },
 "nbformat": 4,
 "nbformat_minor": 2
}
